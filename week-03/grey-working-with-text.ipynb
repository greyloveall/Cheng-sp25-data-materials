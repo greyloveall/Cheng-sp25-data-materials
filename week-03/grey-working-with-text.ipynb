{
 "cells": [
  {
   "cell_type": "markdown",
   "id": "70324201-94ea-4a14-bcb2-01f980035380",
   "metadata": {},
   "source": [
    "open and read a text file"
   ]
  },
  {
   "cell_type": "code",
   "execution_count": 17,
   "id": "976e73d9-370f-4e10-8312-3f06199ae7e1",
   "metadata": {},
   "outputs": [],
   "source": [
    "smith=open('venture-smith.txt', mode='r', encoding='utf-8').read()"
   ]
  },
  {
   "cell_type": "markdown",
   "id": "ca17807e-4a09-47ec-86fb-2872a660ccc1",
   "metadata": {},
   "source": [
    "write a back up copy"
   ]
  },
  {
   "cell_type": "code",
   "execution_count": 18,
   "id": "1bac10ba-7908-42dc-887c-9cc2c91ac917",
   "metadata": {},
   "outputs": [
    {
     "data": {
      "text/plain": [
       "54354"
      ]
     },
     "execution_count": 18,
     "metadata": {},
     "output_type": "execute_result"
    }
   ],
   "source": [
    "open('venture-smith-copy.txt', mode='w', encoding='utf-8').write(smith)"
   ]
  },
  {
   "cell_type": "code",
   "execution_count": null,
   "id": "3df5fb62-44a7-4c7b-a913-1bfda275358c",
   "metadata": {},
   "outputs": [],
   "source": []
  }
 ],
 "metadata": {
  "kernelspec": {
   "display_name": "Python 3 (ipykernel)",
   "language": "python",
   "name": "python3"
  },
  "language_info": {
   "codemirror_mode": {
    "name": "ipython",
    "version": 3
   },
   "file_extension": ".py",
   "mimetype": "text/x-python",
   "name": "python",
   "nbconvert_exporter": "python",
   "pygments_lexer": "ipython3",
   "version": "3.12.7"
  }
 },
 "nbformat": 4,
 "nbformat_minor": 5
}
